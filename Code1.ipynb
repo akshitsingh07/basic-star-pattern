{
  "nbformat": 4,
  "nbformat_minor": 0,
  "metadata": {
    "colab": {
      "name": "Untitled1.ipynb",
      "provenance": [],
      "collapsed_sections": [],
      "toc_visible": true
    },
    "kernelspec": {
      "name": "python3",
      "display_name": "Python 3"
    },
    "language_info": {
      "name": "python"
    }
  },
  "cells": [
    {
      "cell_type": "code",
      "source": [
        "# *\n",
        "# +*\n",
        "# *+*\n",
        "# +*+*\n",
        "# *+*+*\n",
        "\n",
        for i in range(1,6):
  for j in range(1,i+1):
    print("*",end="")
    print("+",end="")
  print("\n")
      ],
      "metadata": {
        "colab": {
          "base_uri": "https://localhost:8080/"
        },
        "id": "7YJNYXu3Pjnd",
        "outputId": "23c63191-0552-438f-aa83-3ef721a2f83c"
      },
      "execution_count": 31,
      "outputs": [
        {
          "output_type": "stream",
          "name": "stdout",
          "text": [
            "*\n",
            "\n",
            "**+\n",
            "\n",
            "***++\n",
            "\n",
            "****+++\n",
            "\n",
            "*****++++\n",
            "\n"
          ]
        }
      ]
    },
    {
      "cell_type": "code",
      "source": [
        "for i in range(5,0,-1):\n",
        "  for j in range(1,6-i):\n",
        "    print(\" \",end=\"\")\n",
        "  for k in range(1,(2*i-1)+1):\n",
        "    print(\"*\",end=\"\")\n",
        "  print(\"\\n\")"
      ],
      "metadata": {
        "colab": {
          "base_uri": "https://localhost:8080/"
        },
        "id": "RSx94tNFPRg6",
        "outputId": "36feaf16-ef21-47a4-eeef-e886a8dac004"
      },
      "execution_count": 23,
      "outputs": [
        {
          "output_type": "stream",
          "name": "stdout",
          "text": [
            "*********\n",
            "\n",
            " *******\n",
            "\n",
            "  *****\n",
            "\n",
            "   ***\n",
            "\n",
            "    *\n",
            "\n"
          ]
        }
      ]
    },
    {
      "cell_type": "code",
      "source": [
        "for i in range(1,6):\n",
        "  for j in range(1,6-i):\n",
        "    print(\" \",end=\"\")\n",
        "  for k in range(1,(2*i-1)+1):\n",
        "    print(\"*\",end=\"\")\n",
        "  print(\"\\n\")"
      ],
      "metadata": {
        "colab": {
          "base_uri": "https://localhost:8080/"
        },
        "id": "B6sElRgnN4Sb",
        "outputId": "18fd8d77-ab7d-4aea-a71d-0449e42af6a5"
      },
      "execution_count": 22,
      "outputs": [
        {
          "output_type": "stream",
          "name": "stdout",
          "text": [
            "    *\n",
            "\n",
            "   ***\n",
            "\n",
            "  *****\n",
            "\n",
            " *******\n",
            "\n",
            "*********\n",
            "\n"
          ]
        }
      ]
    },
    {
      "cell_type": "code",
      "source": [
        "for i in range(5,0,-1):\n",
        "  for k in range(1, 6-i):\n",
        "    print(\" \",end=\"\")\n",
        "  for j in range(1, i+1):\n",
        "    print(\"*\",end=\"\")\n",
        "  print(\"\\n\")"
      ],
      "metadata": {
        "colab": {
          "base_uri": "https://localhost:8080/"
        },
        "id": "FFMto8n6NCq7",
        "outputId": "db8d8f69-2f05-4ad5-c71f-d3288d3af875"
      },
      "execution_count": 19,
      "outputs": [
        {
          "output_type": "stream",
          "name": "stdout",
          "text": [
            "*****\n",
            "\n",
            " ****\n",
            "\n",
            "  ***\n",
            "\n",
            "   **\n",
            "\n",
            "    *\n",
            "\n"
          ]
        }
      ]
    },
    {
      "cell_type": "code",
      "source": [
        "for i in range(1,6): #for number of rows\n",
        "  for k in range(1, 6-i): #for space\n",
        "    print(\" \",end=\"\")\n",
        "  for j in range(1, i+1): #for printing the star\n",
        "    print(\"*\",end=\"\")\n",
        "  print(\"\\n\")"
      ],
      "metadata": {
        "colab": {
          "base_uri": "https://localhost:8080/"
        },
        "id": "dmLvI1yDMGuT",
        "outputId": "daf14bc8-1f1c-4060-dceb-01cd962a8043"
      },
      "execution_count": 17,
      "outputs": [
        {
          "output_type": "stream",
          "name": "stdout",
          "text": [
            "    *\n",
            "\n",
            "   **\n",
            "\n",
            "  ***\n",
            "\n",
            " ****\n",
            "\n",
            "*****\n",
            "\n"
          ]
        }
      ]
    },
    {
      "cell_type": "code",
      "source": [
        "for i in range(1,6):\n",
        "  for j in range(1, i+1):\n",
        "    print(\"*\", end=\"\")\n",
        "  print(\"\\n\")"
      ],
      "metadata": {
        "colab": {
          "base_uri": "https://localhost:8080/"
        },
        "id": "Up9-QZhaL0y7",
        "outputId": "07164f1f-a5ef-4707-a73b-0bc1b290440c"
      },
      "execution_count": 12,
      "outputs": [
        {
          "output_type": "stream",
          "name": "stdout",
          "text": [
            "*\n",
            "\n",
            "**\n",
            "\n",
            "***\n",
            "\n",
            "****\n",
            "\n",
            "*****\n",
            "\n"
          ]
        }
      ]
    },
    {
      "cell_type": "code",
      "source": [
        "for i in range(5, 0, -1):\n",
        "  for j in range(1, i+1):\n",
        "    print(\"*\",end=\"\")\n",
        "  print('\\n')"
      ],
      "metadata": {
        "colab": {
          "base_uri": "https://localhost:8080/"
        },
        "id": "JM4dxGF-KFnx",
        "outputId": "bb0f259d-01e0-43d6-babe-e19782c5f403"
      },
      "execution_count": 11,
      "outputs": [
        {
          "output_type": "stream",
          "name": "stdout",
          "text": [
            "*****\n",
            "\n",
            "****\n",
            "\n",
            "***\n",
            "\n",
            "**\n",
            "\n",
            "*\n",
            "\n"
          ]
        }
      ]
    },
    {
      "cell_type": "code",
      "execution_count": 1,
      "metadata": {
        "id": "BJ3e8MbE-rkc",
        "colab": {
          "base_uri": "https://localhost:8080/"
        },
        "outputId": "b7d3dcab-3d20-4833-edc4-be4ac01546d0"
      },
      "outputs": [
        {
          "output_type": "stream",
          "name": "stdout",
          "text": [
            "7\n",
            "21\n",
            "---------.|.---------\n",
            "------.|..|..|.------\n",
            "---.|..|..|..|..|.---\n",
            "-------WELCOME-------\n",
            "---.|..|..|..|..|.---\n",
            "------.|..|..|.------\n",
            "---------.|.---------\n"
          ]
        }
      ],
      "source": [
        "# This question is being asked in hacker rank \n",
        "# Guest welcome mat\n",
        "\n",
        "N = int(input())\n",
        "M = int(input())\n",
        "for i in range(N):\n",
        "  pattern = \".|.\"\n",
        "  if i < (N-1)/2:\n",
        "    print((pattern * (2*i+1)).center(M, \"-\"))\n",
        "  elif i == (N-1)/2:\n",
        "    print(\"WELCOME\".center(M, \"-\"))\n",
        "  else:\n",
        "    print((pattern * (2*(N-1-i)+1)).center(M, \"-\"))"
      ]
    }
  ]
}
